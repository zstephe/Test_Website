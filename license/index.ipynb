{
 "cells": [
  {
   "cell_type": "markdown",
   "metadata": {},
   "source": [
    "# License\n",
    "\n",
    "All source code and software in this repository are made available under the terms of the\n",
    "[MIT license](https://opensource.org/licenses/mit-license.html).\n",
    "\n",
    "Note that the [Divvy data](https://www.divvybikes.com/system-data) are made available under a [separate license agreement](https://www.divvybikes.com/data-license-agreement)."
   ]
  }
 ],
 "metadata": {
  "kernelspec": {
   "display_name": "R",
   "language": "R",
   "name": "ir"
  },
  "language_info": {
   "codemirror_mode": "r",
   "file_extension": ".r",
   "mimetype": "text/x-r-source",
   "name": "R",
   "pygments_lexer": "r",
   "version": "3.3.2"
  }
 },
 "nbformat": 4,
 "nbformat_minor": 2
}
