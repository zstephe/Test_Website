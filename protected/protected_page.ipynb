{
 "cells": [
  {
   "cell_type": "markdown",
   "metadata": {},
   "source": [
    "# This page is password protected\n",
    "\n",
    "You can access this page by typing in password: `protect_page` when asked."
   ]
  },
  {
   "cell_type": "markdown",
   "metadata": {},
   "source": [
    "\n",
    "**FIXME: should elaborate on the caveats and point sugguestions to alternatives**\n",
    "\n",
    "1. This mechanism simply renamed a page to a \"random\" string based on provided password\n",
    "2. Additioanlly a [`metatag`](https://support.google.com/webmasters/answer/93710?hl=en) is added to the renamed page:\n",
    "```\n",
    "<meta name=\"robots\" content=\"noindex\">\n",
    "```\n",
    "\n",
    "Please only use this feature if these protections are secure enough for your needs."
   ]
  }
 ],
 "metadata": {
  "kernelspec": {
   "display_name": "Python 3",
   "language": "python",
   "name": "python3"
  },
  "language_info": {
   "codemirror_mode": {
    "name": "ipython",
    "version": 3
   },
   "file_extension": ".py",
   "mimetype": "text/x-python",
   "name": "python",
   "nbconvert_exporter": "python",
   "pygments_lexer": "ipython3",
   "version": "3.6.1"
  }
 },
 "nbformat": 4,
 "nbformat_minor": 2
}
