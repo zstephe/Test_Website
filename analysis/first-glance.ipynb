{
 "cells": [
  {
   "cell_type": "markdown",
   "metadata": {},
   "source": [
    "# A first glance at the Divvy data\n",
    "\n",
    "**authors:** Peter Carbonetto, Gao Wang\n",
    "\n",
    "Here, we will take a brief look at the data provided by Divvy.\n",
    "\n",
    "We begin by loading a few packages, as well as some additional R functions implemented for this project."
   ]
  },
  {
   "cell_type": "code",
   "execution_count": 1,
   "metadata": {
    "collapsed": true
   },
   "outputs": [],
   "source": [
    "library(data.table)\n",
    "source(\"../code/functions.R\")"
   ]
  },
  {
   "cell_type": "markdown",
   "metadata": {},
   "source": [
    "## Reading the data\n",
    "\n",
    "Function `read.divvy.data` reads in the trip and station data from the [Divvy CSV files](https://www.divvybikes.com/system-data). This function uses `fread` from the `data.table` package to quickly read in the data (it is much faster than `read.table`). This function also prepares the data, including the departure dates and times, so that they are easier to work with."
   ]
  },
  {
   "cell_type": "code",
   "execution_count": 2,
   "metadata": {},
   "outputs": [
    {
     "name": "stdout",
     "output_type": "stream",
     "text": [
      "Reading station data from ../data/Divvy_Stations_2016_Q4.csv.\n",
      "Reading trip data from ../data/Divvy_Trips_2016_Q1.csv.\n",
      "Reading trip data from ../data/Divvy_Trips_2016_04.csv.\n",
      "Reading trip data from ../data/Divvy_Trips_2016_05.csv.\n",
      "Reading trip data from ../data/Divvy_Trips_2016_06.csv.\n",
      "Reading trip data from ../data/Divvy_Trips_2016_Q3.csv.\n",
      "Reading trip data from ../data/Divvy_Trips_2016_Q4.csv.\n",
      "Preparing Divvy data for analysis in R.\n",
      "Converting dates and times.\n"
     ]
    }
   ],
   "source": [
    "divvy <- read.divvy.data()"
   ]
  },
  {
   "cell_type": "markdown",
   "metadata": {},
   "source": [
    "## A first glance at the Divvy data\n",
    "\n",
    "We have data on 581 Divvy stations across the city."
   ]
  },
  {
   "cell_type": "code",
   "execution_count": 3,
   "metadata": {},
   "outputs": [
    {
     "name": "stdout",
     "output_type": "stream",
     "text": [
      "                       name latitude longitude dpcapacity online_date\n",
      "        2112 W Peterson Ave    41.99    -87.68         15   5/12/2015\n",
      "              63rd St Beach    41.78    -87.58         23   4/20/2015\n",
      "          900 W Harrison St    41.87    -87.65         19    8/6/2013\n",
      " Aberdeen St & Jackson Blvd    41.88    -87.65         15   6/21/2013\n",
      "    Aberdeen St & Monroe St    41.88    -87.66         19   6/26/2013\n",
      "   Ada St & Washington Blvd    41.88    -87.66         15  10/10/2013\n"
     ]
    }
   ],
   "source": [
    "print(head(divvy$stations),row.names = FALSE)"
   ]
  },
  {
   "cell_type": "code",
   "execution_count": 4,
   "metadata": {},
   "outputs": [
    {
     "data": {
      "text/html": [
       "581"
      ],
      "text/latex": [
       "581"
      ],
      "text/markdown": [
       "581"
      ],
      "text/plain": [
       "[1] 581"
      ]
     },
     "metadata": {},
     "output_type": "display_data"
    }
   ],
   "source": [
    "nrow(divvy$stations)"
   ]
  },
  {
   "cell_type": "markdown",
   "metadata": {},
   "source": [
    "We also have information about the >3 million trips taken on Divvy bikes in 2016."
   ]
  },
  {
   "cell_type": "code",
   "execution_count": 5,
   "metadata": {},
   "outputs": [
    {
     "name": "stdout",
     "output_type": "stream",
     "text": [
      " trip_id           starttime bikeid tripduration from_station_id\n",
      " 9080551 2016-03-31 23:53:00    155          841             344\n",
      " 9080550 2016-03-31 23:46:00   4831          649             128\n",
      " 9080549 2016-03-31 23:42:00   4232          210             350\n",
      " 9080548 2016-03-31 23:37:00   3464         1045             303\n",
      " 9080547 2016-03-31 23:33:00   1750          202             334\n",
      " 9080546 2016-03-31 23:31:00   4302          638              67\n",
      "             from_station_name to_station_id               to_station_name\n",
      " Ravenswood Ave & Lawrence Ave           458      Broadway & Thorndale Ave\n",
      "       Damen Ave & Chicago Ave           213        Leavitt St & North Ave\n",
      "     Ashland Ave & Chicago Ave           210     Ashland Ave & Division St\n",
      "       Broadway & Cornelia Ave           458      Broadway & Thorndale Ave\n",
      "   Lake Shore Dr & Belmont Ave           329 Lake Shore Dr & Diversey Pkwy\n",
      " Sheffield Ave & Fullerton Ave           304       Broadway & Waveland Ave\n",
      "   usertype gender birthyear start.week start.day start.hour\n",
      " Subscriber   Male      1986         13  Thursday         23\n",
      " Subscriber   Male      1980         13  Thursday         23\n",
      " Subscriber   Male      1979         13  Thursday         23\n",
      " Subscriber   Male      1980         13  Thursday         23\n",
      " Subscriber   Male      1969         13  Thursday         23\n",
      " Subscriber   Male      1991         13  Thursday         23\n"
     ]
    }
   ],
   "source": [
    "print(head(divvy$trips),row.names = FALSE)"
   ]
  },
  {
   "cell_type": "code",
   "execution_count": 6,
   "metadata": {},
   "outputs": [
    {
     "data": {
      "text/html": [
       "3595383"
      ],
      "text/latex": [
       "3595383"
      ],
      "text/markdown": [
       "3595383"
      ],
      "text/plain": [
       "[1] 3595383"
      ]
     },
     "metadata": {},
     "output_type": "display_data"
    }
   ],
   "source": [
    "nrow(divvy$trips)"
   ]
  },
  {
   "cell_type": "markdown",
   "metadata": {},
   "source": [
    "Out of all the Divvy stations in Chicago, the one on Navy Pier (near the corner of Streeter and Grand) had the most activity by far."
   ]
  },
  {
   "cell_type": "code",
   "execution_count": 7,
   "metadata": {},
   "outputs": [
    {
     "data": {
      "text/html": [
       "<table>\n",
       "<tbody>\n",
       "\t<tr><th scope=row>Streeter Dr &amp; Grand Ave</th><td>90042</td></tr>\n",
       "\t<tr><th scope=row>Lake Shore Dr &amp; Monroe St</th><td>51090</td></tr>\n",
       "\t<tr><th scope=row>Theater on the Lake</th><td>47927</td></tr>\n",
       "\t<tr><th scope=row>Clinton St &amp; Washington Blvd</th><td>47125</td></tr>\n",
       "\t<tr><th scope=row>Lake Shore Dr &amp; North Blvd</th><td>45754</td></tr>\n",
       "\t<tr><th scope=row>Clinton St &amp; Madison St</th><td>41744</td></tr>\n",
       "</tbody>\n",
       "</table>\n"
      ],
      "text/latex": [
       "\\begin{tabular}{r|l}\n",
       "\tStreeter Dr \\& Grand Ave & 90042\\\\\n",
       "\tLake Shore Dr \\& Monroe St & 51090\\\\\n",
       "\tTheater on the Lake & 47927\\\\\n",
       "\tClinton St \\& Washington Blvd & 47125\\\\\n",
       "\tLake Shore Dr \\& North Blvd & 45754\\\\\n",
       "\tClinton St \\& Madison St & 41744\\\\\n",
       "\\end{tabular}\n"
      ],
      "text/markdown": [
       "\n",
       "| Streeter Dr & Grand Ave | 90042 | \n",
       "| Lake Shore Dr & Monroe St | 51090 | \n",
       "| Theater on the Lake | 47927 | \n",
       "| Clinton St & Washington Blvd | 47125 | \n",
       "| Lake Shore Dr & North Blvd | 45754 | \n",
       "| Clinton St & Madison St | 41744 | \n",
       "\n",
       "\n"
      ],
      "text/plain": [
       "                             [,1] \n",
       "Streeter Dr & Grand Ave      90042\n",
       "Lake Shore Dr & Monroe St    51090\n",
       "Theater on the Lake          47927\n",
       "Clinton St & Washington Blvd 47125\n",
       "Lake Shore Dr & North Blvd   45754\n",
       "Clinton St & Madison St      41744"
      ]
     },
     "metadata": {},
     "output_type": "display_data"
    }
   ],
   "source": [
    "departures <- table(divvy$trips$from_station_name)\n",
    "as.matrix(head(sort(departures,decreasing = TRUE)))"
   ]
  },
  {
   "cell_type": "markdown",
   "metadata": {},
   "source": [
    "## Divvy bikes at the University of Chicago\n",
    "\n",
    "In subsequent analyses, we will also take a close look at the trip data for the main Divvy station on the University of Chicago campus. The Divvy bikes were rented almost 8,000 times in 2016 at this location."
   ]
  },
  {
   "cell_type": "code",
   "execution_count": 8,
   "metadata": {},
   "outputs": [
    {
     "data": {
      "text/html": [
       "7944"
      ],
      "text/latex": [
       "7944"
      ],
      "text/markdown": [
       "7944"
      ],
      "text/plain": [
       "[1] 7944"
      ]
     },
     "metadata": {},
     "output_type": "display_data"
    }
   ],
   "source": [
    "sum(divvy$trips$from_station_name == \"University Ave & 57th St\",na.rm = TRUE)"
   ]
  },
  {
   "cell_type": "markdown",
   "metadata": {},
   "source": [
    "## Session information\n",
    "\n",
    "This is the version of Jupyter used to generate these results."
   ]
  },
  {
   "cell_type": "code",
   "execution_count": 9,
   "metadata": {},
   "outputs": [
    {
     "data": {
      "text/html": [
       "'4.3.0'"
      ],
      "text/latex": [
       "'4.3.0'"
      ],
      "text/markdown": [
       "'4.3.0'"
      ],
      "text/plain": [
       "[1] \"4.3.0\""
      ]
     },
     "metadata": {},
     "output_type": "display_data"
    }
   ],
   "source": [
    "system(\"jupyter --version\",intern = TRUE)"
   ]
  },
  {
   "cell_type": "markdown",
   "metadata": {},
   "source": [
    "This is the version of R and the packages that were used to generate these results."
   ]
  },
  {
   "cell_type": "code",
   "execution_count": 10,
   "metadata": {},
   "outputs": [
    {
     "data": {
      "text/plain": [
       "R version 3.3.2 (2016-10-31)\n",
       "Platform: x86_64-apple-darwin13.4.0 (64-bit)\n",
       "Running under: macOS Sierra 10.12.5\n",
       "\n",
       "locale:\n",
       "[1] en_US.UTF-8/en_US.UTF-8/en_US.UTF-8/C/en_US.UTF-8/en_US.UTF-8\n",
       "\n",
       "attached base packages:\n",
       "[1] stats     graphics  grDevices utils     datasets  methods   base     \n",
       "\n",
       "other attached packages:\n",
       "[1] data.table_1.10.4\n",
       "\n",
       "loaded via a namespace (and not attached):\n",
       " [1] R6_2.2.0        magrittr_1.5    IRdisplay_0.4.4 pbdZMQ_0.2-5   \n",
       " [5] tools_3.3.2     crayon_1.3.2    uuid_0.1-2      stringi_1.1.2  \n",
       " [9] IRkernel_0.7    jsonlite_1.5    stringr_1.2.0   digest_0.6.12  \n",
       "[13] repr_0.12.0     evaluate_0.10.1"
      ]
     },
     "metadata": {},
     "output_type": "display_data"
    }
   ],
   "source": [
    "sessionInfo()"
   ]
  }
 ],
 "metadata": {
  "kernelspec": {
   "display_name": "R",
   "language": "R",
   "name": "ir"
  },
  "language_info": {
   "codemirror_mode": "r",
   "file_extension": ".r",
   "mimetype": "text/x-r-source",
   "name": "R",
   "pygments_lexer": "r",
   "version": "3.4.3"
  }
 },
 "nbformat": 4,
 "nbformat_minor": 2
}
