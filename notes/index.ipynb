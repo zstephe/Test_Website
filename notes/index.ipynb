{
 "cells": [
  {
   "cell_type": "markdown",
   "metadata": {},
   "source": [
    "# Project notes\n",
    "\n",
    "**authors:** Peter Carbonetto, Gao Wang<br>"
   ]
  },
  {
   "cell_type": "markdown",
   "metadata": {},
   "source": [
    "## Note about commit ids\n",
    "\n",
    "A git commit id (SHA1) and commit modification date is included at the bottom of each exported webpage. This git commit id uniquely identifies the version of the Jupyter notebook that was used to create the webpage. \n",
    "\n",
    "It is important to note that the webpage is exported using the `jupyter nbconvert` command *without* the `--execute` flag; that is, the webpage is exported from the Jupyter notebook _as is_ without executing code. Therefore, there is no guarantee that the given version of code will reproduce the results and figures as shown in the webpage and notebook."
   ]
  }
 ],
 "metadata": {
  "kernelspec": {
   "display_name": "R",
   "language": "R",
   "name": "ir"
  },
  "language_info": {
   "codemirror_mode": "r",
   "file_extension": ".r",
   "mimetype": "text/x-r-source",
   "name": "R",
   "pygments_lexer": "r",
   "version": "3.3.2"
  }
 },
 "nbformat": 4,
 "nbformat_minor": 2
}
