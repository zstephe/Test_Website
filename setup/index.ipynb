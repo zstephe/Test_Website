{
 "cells": [
  {
   "cell_type": "markdown",
   "metadata": {},
   "source": [
    "# Setup for Divvy data analysis\n",
    "\n",
    "**authors:** Peter Carbonetto, Gao Wang<br>\n",
    "**date:** July 13, 2017\n",
    "\n",
    "To reproduce the results on your own computer, please follow these setup instructions."
   ]
  },
  {
   "cell_type": "markdown",
   "metadata": {},
   "source": [
    "## Setup instructions\n",
    "\n",
    "+ Download or clone the [ipynb-website git repository](https://github.com/stephenslab/ipynb-website) on your computer."
   ]
  },
  {
   "cell_type": "markdown",
   "metadata": {},
   "source": [
    "+ Download the Divvy data files and copy the files to the \"data\" directory. We have provided a script `code/retrieve_divvy_data.sh` that will automatically retrieve the data files and move them to the expected location. Alternatively, you can view this script and follow the steps by hand. After completing this step, these files should be in the data directory:\n",
    "\n",
    "```\n",
    "Divvy_Stations_2016_Q1Q2.csv\n",
    "Divvy_Stations_2016_Q3.csv\n",
    "Divvy_Stations_2016_Q4.csv\n",
    "Divvy_Trips_2016_04.csv\n",
    "Divvy_Trips_2016_05.csv\n",
    "Divvy_Trips_2016_06.csv\n",
    "Divvy_Trips_2016_Q1.csv\n",
    "Divvy_Trips_2016_Q3.csv\n",
    "Divvy_Trips_2016_Q4.csv\n",
    "```"
   ]
  },
  {
   "cell_type": "markdown",
   "metadata": {},
   "source": [
    "+ Install [R](http://cran.r-project.org)."
   ]
  },
  {
   "cell_type": "markdown",
   "metadata": {},
   "source": [
    "+ Optionally, install [Jupyter](http://jupyter.org). The recommended way to do this is to download and install [Anaconda](https://www.continuum.io/anaconda-overview). This is only needed if you would like to run the code interactively within the Jupyter notebooks."
   ]
  },
  {
   "cell_type": "markdown",
   "metadata": {},
   "source": [
    "+ If you are using Jupyter, download and install the [Jupyter R kernel](https://irkernel.github.io)."
   ]
  },
  {
   "cell_type": "markdown",
   "metadata": {},
   "source": [
    "+ Install the R packages used for the analyses:\n",
    "\n",
    "```\n",
    "install.packages(c(\"repr\",\"data.table\",\"ggplot2\"))\n",
    "```"
   ]
  },
  {
   "cell_type": "markdown",
   "metadata": {},
   "source": [
    "Once you have completed these steps, you are ready to run the R code. There are several ways this can be done.\n",
    "\n",
    "One simple way is to run the individual code chunks by copying and pasting into the R console. When\n",
    "running the code in this way, make sure your working directory is set to the \"analysis\" directory, e.g.,"
   ]
  },
  {
   "cell_type": "code",
   "execution_count": 1,
   "metadata": {},
   "outputs": [
    {
     "data": {
      "text/html": [
       "'/Users/pcarbo/git/ipynb-website/analysis'"
      ],
      "text/latex": [
       "'/Users/pcarbo/git/ipynb-website/analysis'"
      ],
      "text/markdown": [
       "'/Users/pcarbo/git/ipynb-website/analysis'"
      ],
      "text/plain": [
       "[1] \"/Users/pcarbo/git/ipynb-website/analysis\""
      ]
     },
     "metadata": {},
     "output_type": "display_data"
    }
   ],
   "source": [
    "setwd(\"../analysis\")\n",
    "getwd()"
   ]
  },
  {
   "cell_type": "markdown",
   "metadata": {},
   "source": [
    "Alternatively, you can open the notebooks in Jupyter and run the code interactively."
   ]
  },
  {
   "cell_type": "markdown",
   "metadata": {},
   "source": [
    "## Session information\n",
    "\n",
    "This is the version of Jupyter that was used to generate the results from the notebooks."
   ]
  },
  {
   "cell_type": "code",
   "execution_count": 2,
   "metadata": {},
   "outputs": [
    {
     "data": {
      "text/html": [
       "'4.3.0'"
      ],
      "text/latex": [
       "'4.3.0'"
      ],
      "text/markdown": [
       "'4.3.0'"
      ],
      "text/plain": [
       "[1] \"4.3.0\""
      ]
     },
     "metadata": {},
     "output_type": "display_data"
    }
   ],
   "source": [
    "system(\"jupyter --version\",intern = TRUE)"
   ]
  },
  {
   "cell_type": "markdown",
   "metadata": {},
   "source": [
    "This is the version of R and the packages that were used to generate the results from the Jupyter notebooks."
   ]
  },
  {
   "cell_type": "code",
   "execution_count": 3,
   "metadata": {},
   "outputs": [
    {
     "data": {
      "text/plain": [
       "R version 3.3.2 (2016-10-31)\n",
       "Platform: x86_64-apple-darwin13.4.0 (64-bit)\n",
       "Running under: macOS Sierra 10.12.5\n",
       "\n",
       "locale:\n",
       "[1] en_US.UTF-8/en_US.UTF-8/en_US.UTF-8/C/en_US.UTF-8/en_US.UTF-8\n",
       "\n",
       "attached base packages:\n",
       "[1] stats     graphics  grDevices utils     datasets  methods   base     \n",
       "\n",
       "loaded via a namespace (and not attached):\n",
       " [1] R6_2.2.0        magrittr_1.5    IRdisplay_0.4.4 pbdZMQ_0.2-5   \n",
       " [5] tools_3.3.2     crayon_1.3.2    uuid_0.1-2      stringi_1.1.2  \n",
       " [9] IRkernel_0.7    jsonlite_1.5    stringr_1.2.0   digest_0.6.12  \n",
       "[13] repr_0.12.0     evaluate_0.10.1"
      ]
     },
     "metadata": {},
     "output_type": "display_data"
    }
   ],
   "source": [
    "sessionInfo()"
   ]
  }
 ],
 "metadata": {
  "kernelspec": {
   "display_name": "R",
   "language": "R",
   "name": "ir"
  },
  "language_info": {
   "codemirror_mode": "r",
   "file_extension": ".r",
   "mimetype": "text/x-r-source",
   "name": "R",
   "pygments_lexer": "r",
   "version": "3.3.2"
  }
 },
 "nbformat": 4,
 "nbformat_minor": 2
}
